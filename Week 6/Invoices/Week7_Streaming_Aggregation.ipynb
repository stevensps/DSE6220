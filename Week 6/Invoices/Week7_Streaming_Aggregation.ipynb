{
 "cells": [
  {
   "cell_type": "markdown",
   "metadata": {
    "application/vnd.databricks.v1+cell": {
     "cellMetadata": {},
     "inputWidgets": {},
     "nuid": "dd6c9f9c-0e0f-4568-a40c-e88829cf42ac",
     "showTitle": false,
     "title": ""
    }
   },
   "source": []
  },
  {
   "cell_type": "markdown",
   "metadata": {
    "application/vnd.databricks.v1+cell": {
     "cellMetadata": {},
     "inputWidgets": {},
     "nuid": "d1f66c4e-66ad-470d-bb4c-284c34a80129",
     "showTitle": false,
     "title": ""
    }
   },
   "source": [
    "# DSE6220\n",
    "# Week 7\n",
    "# Spark Streaming"
   ]
  },
  {
   "cell_type": "markdown",
   "metadata": {
    "application/vnd.databricks.v1+cell": {
     "cellMetadata": {},
     "inputWidgets": {},
     "nuid": "68bb6ddf-1871-4e87-9d5b-ede929195684",
     "showTitle": false,
     "title": ""
    }
   },
   "source": [
    "# Schema Definition\n",
    "Define the schema of the incoming files using the appropriate data types. The datetime field will be handled in the stream. \n",
    "Drop the table on re-runs and delete the checkpoint directory. "
   ]
  },
  {
   "cell_type": "code",
   "execution_count": 0,
   "metadata": {
    "application/vnd.databricks.v1+cell": {
     "cellMetadata": {
      "byteLimit": 2048000,
      "rowLimit": 10000
     },
     "inputWidgets": {},
     "nuid": "28a4c91a-8845-4696-8d92-1d44246f47e3",
     "showTitle": false,
     "title": ""
    }
   },
   "outputs": [],
   "source": [
    "from pyspark.sql.types import StructType, StructField, StringType , IntegerType, FloatType\n",
    "from pyspark.sql import functions as F\n",
    "spark.conf.set(\"spark.sql.legacy.timeParserPolicy\", \"LEGACY\")\n",
    "\n",
    "schema = StructType([   \n",
    "                     StructField('InvoiceNo',IntegerType()),\n",
    "                     StructField('StockCode',StringType()),\n",
    "                     StructField('Description',StringType()),\n",
    "                     StructField('Quantity',IntegerType()),\n",
    "                     StructField('InvoiceDate',StringType()),\n",
    "                     StructField('UnitPrice',FloatType()),\n",
    "                     StructField('CustomerID',IntegerType()),\n",
    "                     StructField('Country',StringType()),\n",
    "\n",
    "])"
   ]
  },
  {
   "cell_type": "code",
   "execution_count": 0,
   "metadata": {
    "application/vnd.databricks.v1+cell": {
     "cellMetadata": {
      "byteLimit": 2048000,
      "implicitDf": true,
      "rowLimit": 10000
     },
     "inputWidgets": {},
     "nuid": "21f2612e-71c4-44e1-9bfe-418f0866c078",
     "showTitle": false,
     "title": ""
    }
   },
   "outputs": [
    {
     "output_type": "display_data",
     "data": {
      "text/html": [
       "<style scoped>\n",
       "  .table-result-container {\n",
       "    max-height: 300px;\n",
       "    overflow: auto;\n",
       "  }\n",
       "  table, th, td {\n",
       "    border: 1px solid black;\n",
       "    border-collapse: collapse;\n",
       "  }\n",
       "  th, td {\n",
       "    padding: 5px;\n",
       "  }\n",
       "  th {\n",
       "    text-align: left;\n",
       "  }\n",
       "</style><div class='table-result-container'><table class='table-result'><thead style='background-color: white'><tr></tr></thead><tbody></tbody></table></div>"
      ]
     },
     "metadata": {
      "application/vnd.databricks.v1+output": {
       "addedWidgets": {},
       "aggData": [],
       "aggError": "",
       "aggOverflow": false,
       "aggSchema": [],
       "aggSeriesLimitReached": false,
       "aggType": "",
       "arguments": {},
       "columnCustomDisplayInfos": {},
       "data": [],
       "datasetInfos": [],
       "dbfsResultPath": null,
       "isJsonSchema": true,
       "metadata": {
        "dataframeName": null
       },
       "overflow": false,
       "plotOptions": {
        "customPlotOptions": {},
        "displayType": "table",
        "pivotAggregation": null,
        "pivotColumns": null,
        "xColumns": null,
        "yColumns": null
       },
       "removedWidgets": [],
       "schema": [],
       "type": "table"
      }
     },
     "output_type": "display_data"
    }
   ],
   "source": [
    "%sql\n",
    "drop table if exists merrimack.invoices"
   ]
  },
  {
   "cell_type": "code",
   "execution_count": 0,
   "metadata": {
    "application/vnd.databricks.v1+cell": {
     "cellMetadata": {
      "byteLimit": 2048000,
      "rowLimit": 10000
     },
     "inputWidgets": {},
     "nuid": "eabeb6fc-9840-46cb-b93d-dacf65e623d9",
     "showTitle": false,
     "title": ""
    }
   },
   "outputs": [
    {
     "output_type": "execute_result",
     "data": {
      "text/plain": [
       "False"
      ]
     },
     "execution_count": 2,
     "metadata": {},
     "output_type": "execute_result"
    }
   ],
   "source": [
    "dbutils.fs.rm(\"dbfs:/FileStore/merrimack/invoices/invcheckpoint\",recurse=True)"
   ]
  },
  {
   "cell_type": "markdown",
   "metadata": {
    "application/vnd.databricks.v1+cell": {
     "cellMetadata": {},
     "inputWidgets": {},
     "nuid": "fe11d741-6b22-4bfb-be6b-a952cd90e657",
     "showTitle": false,
     "title": ""
    }
   },
   "source": [
    "# Formatting and Stream Setup\n",
    "Function adopted from the prvious lab with total sales calculated within the function. \n",
    "\n",
    "Build the streaming aggregation method to calculate total sales by invoice date and partition date. I had to use invoicedate here because of the watermark. "
   ]
  },
  {
   "cell_type": "code",
   "execution_count": 0,
   "metadata": {
    "application/vnd.databricks.v1+cell": {
     "cellMetadata": {
      "byteLimit": 2048000,
      "rowLimit": 10000
     },
     "inputWidgets": {},
     "nuid": "6880e44f-14c9-43a3-8aa9-391738eab513",
     "showTitle": false,
     "title": ""
    }
   },
   "outputs": [],
   "source": [
    "def format_data(data):\n",
    "    temp = data.withColumn('InvoiceDate', F.concat(F.regexp_replace('InvoiceDate', '\\.', ':'), F.lit(\":00\")))\\\n",
    "                    .withColumn(\n",
    "                                'InvoiceDate',\n",
    "                                    F.to_timestamp(\n",
    "                                        F.col(\"InvoiceDate\"),\n",
    "                                        'dd-MM-yyyy HH:mm:ss'\n",
    "                                    \n",
    "                                )\n",
    "                            )\\\n",
    "                    .withColumn('partdate', F.date_format('InvoiceDate', 'yyyyMM'))\\\n",
    "                    .withColumn('totalSales', data.Quantity * data.UnitPrice)   \n",
    "    return temp "
   ]
  },
  {
   "cell_type": "code",
   "execution_count": 0,
   "metadata": {
    "application/vnd.databricks.v1+cell": {
     "cellMetadata": {
      "byteLimit": 2048000,
      "rowLimit": 10000
     },
     "inputWidgets": {},
     "nuid": "2511913f-c075-4928-a53e-231a0f7c0982",
     "showTitle": false,
     "title": ""
    }
   },
   "outputs": [],
   "source": [
    "source_dir = 'dbfs:/FileStore/merrimack/invoices/'"
   ]
  },
  {
   "cell_type": "code",
   "execution_count": 0,
   "metadata": {
    "application/vnd.databricks.v1+cell": {
     "cellMetadata": {},
     "inputWidgets": {},
     "nuid": "e8460c6a-efc0-4931-b34c-f969e9e72b8a",
     "showTitle": false,
     "title": ""
    }
   },
   "outputs": [],
   "source": [
    "dbutils.fs.rm(\"dbfs:/FileStore/merrimack/invoices/invcheckpoint\",recurse=True)"
   ]
  },
  {
   "cell_type": "code",
   "execution_count": 0,
   "metadata": {
    "application/vnd.databricks.v1+cell": {
     "cellMetadata": {
      "byteLimit": 2048000,
      "implicitDf": true,
      "rowLimit": 10000
     },
     "inputWidgets": {},
     "nuid": "61717852-0105-4b37-b88e-bbcad5791d79",
     "showTitle": false,
     "title": ""
    }
   },
   "outputs": [
    {
     "output_type": "display_data",
     "data": {
      "text/html": [
       "<style scoped>\n",
       "  .table-result-container {\n",
       "    max-height: 300px;\n",
       "    overflow: auto;\n",
       "  }\n",
       "  table, th, td {\n",
       "    border: 1px solid black;\n",
       "    border-collapse: collapse;\n",
       "  }\n",
       "  th, td {\n",
       "    padding: 5px;\n",
       "  }\n",
       "  th {\n",
       "    text-align: left;\n",
       "  }\n",
       "</style><div class='table-result-container'><table class='table-result'><thead style='background-color: white'><tr></tr></thead><tbody></tbody></table></div>"
      ]
     },
     "metadata": {
      "application/vnd.databricks.v1+output": {
       "addedWidgets": {},
       "aggData": [],
       "aggError": "",
       "aggOverflow": false,
       "aggSchema": [],
       "aggSeriesLimitReached": false,
       "aggType": "",
       "arguments": {},
       "columnCustomDisplayInfos": {},
       "data": [],
       "datasetInfos": [],
       "dbfsResultPath": null,
       "isJsonSchema": true,
       "metadata": {
        "dataframeName": null
       },
       "overflow": false,
       "plotOptions": {
        "customPlotOptions": {},
        "displayType": "table",
        "pivotAggregation": null,
        "pivotColumns": null,
        "xColumns": null,
        "yColumns": null
       },
       "removedWidgets": [],
       "schema": [],
       "type": "table"
      }
     },
     "output_type": "display_data"
    }
   ],
   "source": [
    "%sql\n",
    "use merrimack"
   ]
  },
  {
   "cell_type": "code",
   "execution_count": 0,
   "metadata": {
    "application/vnd.databricks.v1+cell": {
     "cellMetadata": {
      "byteLimit": 2048000,
      "rowLimit": 10000
     },
     "inputWidgets": {},
     "nuid": "5121afb5-702d-48aa-ba04-cabfec29833e",
     "showTitle": false,
     "title": ""
    }
   },
   "outputs": [],
   "source": [
    "df = spark.readStream.format(\"csv\")\\\n",
    "        .option('header','true')\\\n",
    "        .schema(schema)\\\n",
    "        .load(source_dir)"
   ]
  },
  {
   "cell_type": "code",
   "execution_count": 0,
   "metadata": {
    "application/vnd.databricks.v1+cell": {
     "cellMetadata": {
      "byteLimit": 2048000,
      "rowLimit": 10000
     },
     "inputWidgets": {},
     "nuid": "91b90c1b-ac66-49dd-bfce-23bda41e9dab",
     "showTitle": false,
     "title": ""
    }
   },
   "outputs": [],
   "source": [
    "\"\"\"\n",
    "Apply the formatting function to the data and create an aggregation with a watermark. The watermark was required to do streaming aggregation. \n",
    "\"\"\"\n",
    "\n",
    "df = format_data(df)\n",
    "\n",
    "agg_df = df.withWatermark(\"InvoiceDate\", \"10 minutes\") \\\n",
    "    .groupBy(['InvoiceDate','partdate'])\\\n",
    "    .agg(F.round(F.sum(F.col('totalSales')),2).alias('totalSales'))"
   ]
  },
  {
   "cell_type": "markdown",
   "metadata": {
    "application/vnd.databricks.v1+cell": {
     "cellMetadata": {},
     "inputWidgets": {},
     "nuid": "eb2ef0ee-cfd8-45d2-a73d-317655c06b82",
     "showTitle": false,
     "title": ""
    }
   },
   "source": [
    "# Displaying the Stream & Writing to a Table\n",
    "Here I am displaying the aggregated stream and writing the data to a table with a partition on the partition date. "
   ]
  },
  {
   "cell_type": "code",
   "execution_count": 0,
   "metadata": {
    "application/vnd.databricks.v1+cell": {
     "cellMetadata": {
      "byteLimit": 2048000,
      "rowLimit": 10000
     },
     "inputWidgets": {},
     "nuid": "9e197358-ba83-40a7-84d7-8b02b36ef263",
     "showTitle": false,
     "title": ""
    }
   },
   "outputs": [
    {
     "output_type": "display_data",
     "data": {
      "text/html": [
       "<style scoped>\n",
       "  .table-result-container {\n",
       "    max-height: 300px;\n",
       "    overflow: auto;\n",
       "  }\n",
       "  table, th, td {\n",
       "    border: 1px solid black;\n",
       "    border-collapse: collapse;\n",
       "  }\n",
       "  th, td {\n",
       "    padding: 5px;\n",
       "  }\n",
       "  th {\n",
       "    text-align: left;\n",
       "  }\n",
       "</style><div class='table-result-container'><table class='table-result'><thead style='background-color: white'><tr><th>InvoiceDate</th><th>partdate</th><th>totalSales</th></tr></thead><tbody><tr><td>2023-03-22T11:20:00Z</td><td>202303</td><td>204.15</td></tr><tr><td>2023-01-07T10:54:00Z</td><td>202301</td><td>230.56</td></tr><tr><td>2021-04-07T09:02:00Z</td><td>202104</td><td>259.86</td></tr><tr><td>2021-01-08T08:28:00Z</td><td>202101</td><td>22.2</td></tr><tr><td>2023-04-28T11:22:00Z</td><td>202304</td><td>572.38</td></tr><tr><td>2023-05-30T11:45:00Z</td><td>202305</td><td>276.6</td></tr><tr><td>2021-06-15T09:37:00Z</td><td>202106</td><td>444.98</td></tr><tr><td>2021-05-09T09:32:00Z</td><td>202105</td><td>259.86</td></tr><tr><td>2022-06-01T09:38:00Z</td><td>202206</td><td>2187.71</td></tr><tr><td>2021-01-01T08:26:00Z</td><td>202101</td><td>139.12</td></tr><tr><td>2021-02-05T08:34:00Z</td><td>202102</td><td>70.05</td></tr><tr><td>2021-12-23T10:29:00Z</td><td>202112</td><td>318.14</td></tr><tr><td>2021-07-23T09:41:00Z</td><td>202107</td><td>34.8</td></tr><tr><td>2021-07-29T09:41:00Z</td><td>202107</td><td>449.98</td></tr><tr><td>2021-03-22T09:01:00Z</td><td>202103</td><td>22.2</td></tr><tr><td>2022-06-01T09:30:00Z</td><td>202206</td><td>1423.1</td></tr><tr><td>null</td><td>null</td><td>11.9</td></tr><tr><td>2023-01-23T10:55:00Z</td><td>202301</td><td>22.2</td></tr><tr><td>2022-06-01T09:26:00Z</td><td>202206</td><td>182.94</td></tr><tr><td>2021-08-09T09:45:00Z</td><td>202108</td><td>430.6</td></tr><tr><td>2023-05-26T11:41:00Z</td><td>202305</td><td>1056.63</td></tr><tr><td>2021-02-12T08:34:00Z</td><td>202102</td><td>17.85</td></tr><tr><td>2021-10-24T09:59:00Z</td><td>202110</td><td>226.14</td></tr><tr><td>2021-12-30T10:37:00Z</td><td>202112</td><td>79.6</td></tr><tr><td>2021-12-31T10:39:00Z</td><td>202112</td><td>1024.68</td></tr><tr><td>2023-05-03T11:23:00Z</td><td>202305</td><td>106.2</td></tr><tr><td>2022-06-02T10:12:00Z</td><td>202206</td><td>164.75</td></tr><tr><td>2022-06-02T12:42:00Z</td><td>202206</td><td>473.29</td></tr><tr><td>2022-06-02T11:44:00Z</td><td>202206</td><td>371.7</td></tr><tr><td>2022-06-03T15:41:00Z</td><td>202206</td><td>111.98</td></tr><tr><td>2023-02-02T10:56:00Z</td><td>202302</td><td>244.46</td></tr><tr><td>2021-02-27T08:34:00Z</td><td>202102</td><td>801.86</td></tr><tr><td>2021-10-01T09:58:00Z</td><td>202110</td><td>3193.92</td></tr><tr><td>2021-11-12T10:03:00Z</td><td>202111</td><td>358.25</td></tr><tr><td>2023-03-03T11:02:00Z</td><td>202303</td><td>312.8</td></tr><tr><td>2022-06-01T09:34:00Z</td><td>202206</td><td>1656.08</td></tr><tr><td>2021-05-26T09:32:00Z</td><td>202105</td><td>328.8</td></tr><tr><td>2023-01-02T10:53:00Z</td><td>202301</td><td>59.2</td></tr><tr><td>2023-02-23T10:58:00Z</td><td>202302</td><td>22.2</td></tr><tr><td>2021-09-27T09:57:00Z</td><td>202109</td><td>508.2</td></tr><tr><td>2021-11-26T10:19:00Z</td><td>202111</td><td>216.52</td></tr><tr><td>2021-12-01T10:19:00Z</td><td>202112</td><td>1609.22</td></tr><tr><td>2022-06-01T09:49:00Z</td><td>202206</td><td>224.28</td></tr><tr><td>2022-06-02T10:54:00Z</td><td>202206</td><td>0.0</td></tr><tr><td>2021-04-23T09:09:00Z</td><td>202104</td><td>350.4</td></tr><tr><td>2021-01-27T08:34:00Z</td><td>202101</td><td>278.73</td></tr><tr><td>2021-08-24T09:53:00Z</td><td>202108</td><td>489.6</td></tr><tr><td>2021-09-13T09:56:00Z</td><td>202109</td><td>130.85</td></tr><tr><td>2023-04-07T11:21:00Z</td><td>202304</td><td>193.78</td></tr><tr><td>2023-05-09T11:35:00Z</td><td>202305</td><td>235.16</td></tr><tr><td>2021-06-01T09:34:00Z</td><td>202106</td><td>22.2</td></tr><tr><td>2021-03-03T09:00:00Z</td><td>202103</td><td>204.0</td></tr></tbody></table></div>"
      ]
     },
     "metadata": {
      "application/vnd.databricks.v1+output": {
       "addedWidgets": {},
       "aggData": [],
       "aggError": "",
       "aggOverflow": false,
       "aggSchema": [],
       "aggSeriesLimitReached": false,
       "aggType": "",
       "arguments": {},
       "columnCustomDisplayInfos": {},
       "data": [
        [
         "2023-03-22T11:20:00Z",
         "202303",
         204.15
        ],
        [
         "2023-01-07T10:54:00Z",
         "202301",
         230.56
        ],
        [
         "2021-04-07T09:02:00Z",
         "202104",
         259.86
        ],
        [
         "2021-01-08T08:28:00Z",
         "202101",
         22.2
        ],
        [
         "2023-04-28T11:22:00Z",
         "202304",
         572.38
        ],
        [
         "2023-05-30T11:45:00Z",
         "202305",
         276.6
        ],
        [
         "2021-06-15T09:37:00Z",
         "202106",
         444.98
        ],
        [
         "2021-05-09T09:32:00Z",
         "202105",
         259.86
        ],
        [
         "2022-06-01T09:38:00Z",
         "202206",
         2187.71
        ],
        [
         "2021-01-01T08:26:00Z",
         "202101",
         139.12
        ],
        [
         "2021-02-05T08:34:00Z",
         "202102",
         70.05
        ],
        [
         "2021-12-23T10:29:00Z",
         "202112",
         318.14
        ],
        [
         "2021-07-23T09:41:00Z",
         "202107",
         34.8
        ],
        [
         "2021-07-29T09:41:00Z",
         "202107",
         449.98
        ],
        [
         "2021-03-22T09:01:00Z",
         "202103",
         22.2
        ],
        [
         "2022-06-01T09:30:00Z",
         "202206",
         1423.1
        ],
        [
         null,
         null,
         11.9
        ],
        [
         "2023-01-23T10:55:00Z",
         "202301",
         22.2
        ],
        [
         "2022-06-01T09:26:00Z",
         "202206",
         182.94
        ],
        [
         "2021-08-09T09:45:00Z",
         "202108",
         430.6
        ],
        [
         "2023-05-26T11:41:00Z",
         "202305",
         1056.63
        ],
        [
         "2021-02-12T08:34:00Z",
         "202102",
         17.85
        ],
        [
         "2021-10-24T09:59:00Z",
         "202110",
         226.14
        ],
        [
         "2021-12-30T10:37:00Z",
         "202112",
         79.6
        ],
        [
         "2021-12-31T10:39:00Z",
         "202112",
         1024.68
        ],
        [
         "2023-05-03T11:23:00Z",
         "202305",
         106.2
        ],
        [
         "2022-06-02T10:12:00Z",
         "202206",
         164.75
        ],
        [
         "2022-06-02T12:42:00Z",
         "202206",
         473.29
        ],
        [
         "2022-06-02T11:44:00Z",
         "202206",
         371.7
        ],
        [
         "2022-06-03T15:41:00Z",
         "202206",
         111.98
        ],
        [
         "2023-02-02T10:56:00Z",
         "202302",
         244.46
        ],
        [
         "2021-02-27T08:34:00Z",
         "202102",
         801.86
        ],
        [
         "2021-10-01T09:58:00Z",
         "202110",
         3193.92
        ],
        [
         "2021-11-12T10:03:00Z",
         "202111",
         358.25
        ],
        [
         "2023-03-03T11:02:00Z",
         "202303",
         312.8
        ],
        [
         "2022-06-01T09:34:00Z",
         "202206",
         1656.08
        ],
        [
         "2021-05-26T09:32:00Z",
         "202105",
         328.8
        ],
        [
         "2023-01-02T10:53:00Z",
         "202301",
         59.2
        ],
        [
         "2023-02-23T10:58:00Z",
         "202302",
         22.2
        ],
        [
         "2021-09-27T09:57:00Z",
         "202109",
         508.2
        ],
        [
         "2021-11-26T10:19:00Z",
         "202111",
         216.52
        ],
        [
         "2021-12-01T10:19:00Z",
         "202112",
         1609.22
        ],
        [
         "2022-06-01T09:49:00Z",
         "202206",
         224.28
        ],
        [
         "2022-06-02T10:54:00Z",
         "202206",
         0.0
        ],
        [
         "2021-04-23T09:09:00Z",
         "202104",
         350.4
        ],
        [
         "2021-01-27T08:34:00Z",
         "202101",
         278.73
        ],
        [
         "2021-08-24T09:53:00Z",
         "202108",
         489.6
        ],
        [
         "2021-09-13T09:56:00Z",
         "202109",
         130.85
        ],
        [
         "2023-04-07T11:21:00Z",
         "202304",
         193.78
        ],
        [
         "2023-05-09T11:35:00Z",
         "202305",
         235.16
        ],
        [
         "2021-06-01T09:34:00Z",
         "202106",
         22.2
        ],
        [
         "2021-03-03T09:00:00Z",
         "202103",
         204.0
        ]
       ],
       "datasetInfos": [],
       "dbfsResultPath": null,
       "isJsonSchema": true,
       "metadata": {
        "isDbfsCommandResult": false
       },
       "overflow": false,
       "plotOptions": {
        "customPlotOptions": {},
        "displayType": "table",
        "pivotAggregation": null,
        "pivotColumns": null,
        "xColumns": null,
        "yColumns": null
       },
       "removedWidgets": [],
       "schema": [
        {
         "metadata": "{\"spark.watermarkDelayMs\":86400000}",
         "name": "InvoiceDate",
         "type": "\"timestamp\""
        },
        {
         "metadata": "{}",
         "name": "partdate",
         "type": "\"string\""
        },
        {
         "metadata": "{}",
         "name": "totalSales",
         "type": "\"double\""
        }
       ],
       "type": "table"
      }
     },
     "output_type": "display_data"
    }
   ],
   "source": [
    "display(agg_df)"
   ]
  },
  {
   "cell_type": "code",
   "execution_count": 0,
   "metadata": {
    "application/vnd.databricks.v1+cell": {
     "cellMetadata": {
      "byteLimit": 2048000,
      "rowLimit": 10000
     },
     "inputWidgets": {},
     "nuid": "79133101-afeb-4941-a3ad-f15b3bf376bd",
     "showTitle": false,
     "title": ""
    }
   },
   "outputs": [],
   "source": [
    " WriteStream = ( agg_df.writeStream\n",
    "        .option('checkpointLocation',f'{source_dir}/invcheckpoint')\n",
    "        .outputMode(\"append\")\n",
    "        .queryName('AppendQuery')\n",
    "        .partitionBy('partdate')\n",
    "        .toTable(\"merrimack.invoices\"))"
   ]
  },
  {
   "cell_type": "markdown",
   "metadata": {
    "application/vnd.databricks.v1+cell": {
     "cellMetadata": {},
     "inputWidgets": {},
     "nuid": "e239f975-80ea-4102-93c4-4037eb17230b",
     "showTitle": false,
     "title": ""
    }
   },
   "source": [
    "# Examine the Output Data & Optimize\n",
    "This code just displays the output table, its partitions, and performs an optimize with a Zorder on the output table. "
   ]
  },
  {
   "cell_type": "code",
   "execution_count": 0,
   "metadata": {
    "application/vnd.databricks.v1+cell": {
     "cellMetadata": {
      "byteLimit": 2048000,
      "implicitDf": true,
      "rowLimit": 10000
     },
     "inputWidgets": {},
     "nuid": "943866b8-3ac1-4e85-ae0f-d92b864be4b7",
     "showTitle": false,
     "title": ""
    }
   },
   "outputs": [
    {
     "output_type": "display_data",
     "data": {
      "text/html": [
       "<style scoped>\n",
       "  .table-result-container {\n",
       "    max-height: 300px;\n",
       "    overflow: auto;\n",
       "  }\n",
       "  table, th, td {\n",
       "    border: 1px solid black;\n",
       "    border-collapse: collapse;\n",
       "  }\n",
       "  th, td {\n",
       "    padding: 5px;\n",
       "  }\n",
       "  th {\n",
       "    text-align: left;\n",
       "  }\n",
       "</style><div class='table-result-container'><table class='table-result'><thead style='background-color: white'><tr><th>InvoiceDate</th><th>partdate</th><th>totalSales</th></tr></thead><tbody><tr><td>2021-04-07T09:02:00Z</td><td>202104</td><td>259.86</td></tr><tr><td>2021-04-23T09:09:00Z</td><td>202104</td><td>350.4</td></tr><tr><td>2021-06-15T09:37:00Z</td><td>202106</td><td>444.98</td></tr><tr><td>2021-06-01T09:34:00Z</td><td>202106</td><td>22.2</td></tr><tr><td>2023-05-26T11:41:00Z</td><td>202305</td><td>1056.63</td></tr><tr><td>2023-05-03T11:23:00Z</td><td>202305</td><td>106.2</td></tr><tr><td>2023-05-09T11:35:00Z</td><td>202305</td><td>235.16</td></tr><tr><td>2021-03-22T09:01:00Z</td><td>202103</td><td>22.2</td></tr><tr><td>2021-03-03T09:00:00Z</td><td>202103</td><td>204.0</td></tr><tr><td>2023-01-07T10:54:00Z</td><td>202301</td><td>230.56</td></tr><tr><td>2023-01-23T10:55:00Z</td><td>202301</td><td>22.2</td></tr><tr><td>2023-01-02T10:53:00Z</td><td>202301</td><td>59.2</td></tr><tr><td>2021-08-09T09:45:00Z</td><td>202108</td><td>430.6</td></tr><tr><td>2021-08-24T09:53:00Z</td><td>202108</td><td>489.6</td></tr><tr><td>2021-11-12T10:03:00Z</td><td>202111</td><td>358.25</td></tr><tr><td>2021-11-26T10:19:00Z</td><td>202111</td><td>216.52</td></tr><tr><td>2021-01-08T08:28:00Z</td><td>202101</td><td>22.2</td></tr><tr><td>2021-01-01T08:26:00Z</td><td>202101</td><td>139.12</td></tr><tr><td>2021-01-27T08:34:00Z</td><td>202101</td><td>278.73</td></tr><tr><td>2021-05-09T09:32:00Z</td><td>202105</td><td>259.86</td></tr><tr><td>2021-05-26T09:32:00Z</td><td>202105</td><td>328.8</td></tr><tr><td>2023-03-22T11:20:00Z</td><td>202303</td><td>204.15</td></tr><tr><td>2023-03-03T11:02:00Z</td><td>202303</td><td>312.8</td></tr><tr><td>2021-09-27T09:57:00Z</td><td>202109</td><td>508.2</td></tr><tr><td>2021-09-13T09:56:00Z</td><td>202109</td><td>130.85</td></tr><tr><td>2023-02-02T10:56:00Z</td><td>202302</td><td>244.46</td></tr><tr><td>2023-02-23T10:58:00Z</td><td>202302</td><td>22.2</td></tr><tr><td>2021-02-05T08:34:00Z</td><td>202102</td><td>70.05</td></tr><tr><td>2021-02-12T08:34:00Z</td><td>202102</td><td>17.85</td></tr><tr><td>2021-02-27T08:34:00Z</td><td>202102</td><td>801.86</td></tr><tr><td>2022-06-01T09:38:00Z</td><td>202206</td><td>2187.71</td></tr><tr><td>2022-06-01T09:30:00Z</td><td>202206</td><td>1423.1</td></tr><tr><td>2022-06-01T09:26:00Z</td><td>202206</td><td>182.94</td></tr><tr><td>2022-06-02T11:44:00Z</td><td>202206</td><td>371.7</td></tr><tr><td>2022-06-03T15:41:00Z</td><td>202206</td><td>111.98</td></tr><tr><td>2022-06-01T09:34:00Z</td><td>202206</td><td>1656.08</td></tr><tr><td>2022-06-02T10:54:00Z</td><td>202206</td><td>0.0</td></tr><tr><td>2021-10-24T09:59:00Z</td><td>202110</td><td>226.14</td></tr><tr><td>2021-10-01T09:58:00Z</td><td>202110</td><td>3193.92</td></tr><tr><td>2021-12-23T10:29:00Z</td><td>202112</td><td>318.14</td></tr><tr><td>2021-12-30T10:37:00Z</td><td>202112</td><td>79.6</td></tr><tr><td>2021-12-31T10:39:00Z</td><td>202112</td><td>1024.68</td></tr><tr><td>2021-12-01T10:19:00Z</td><td>202112</td><td>1609.22</td></tr><tr><td>2023-04-28T11:22:00Z</td><td>202304</td><td>572.38</td></tr><tr><td>2022-06-01T09:49:00Z</td><td>202206</td><td>224.28</td></tr><tr><td>2023-04-07T11:21:00Z</td><td>202304</td><td>193.78</td></tr><tr><td>2022-06-02T10:12:00Z</td><td>202206</td><td>164.75</td></tr><tr><td>2022-06-02T12:42:00Z</td><td>202206</td><td>473.29</td></tr><tr><td>2021-07-23T09:41:00Z</td><td>202107</td><td>34.8</td></tr><tr><td>2021-07-29T09:41:00Z</td><td>202107</td><td>449.98</td></tr></tbody></table></div>"
      ]
     },
     "metadata": {
      "application/vnd.databricks.v1+output": {
       "addedWidgets": {},
       "aggData": [],
       "aggError": "",
       "aggOverflow": false,
       "aggSchema": [],
       "aggSeriesLimitReached": false,
       "aggType": "",
       "arguments": {},
       "columnCustomDisplayInfos": {},
       "data": [
        [
         "2021-04-07T09:02:00Z",
         "202104",
         259.86
        ],
        [
         "2021-04-23T09:09:00Z",
         "202104",
         350.4
        ],
        [
         "2021-06-15T09:37:00Z",
         "202106",
         444.98
        ],
        [
         "2021-06-01T09:34:00Z",
         "202106",
         22.2
        ],
        [
         "2023-05-26T11:41:00Z",
         "202305",
         1056.63
        ],
        [
         "2023-05-03T11:23:00Z",
         "202305",
         106.2
        ],
        [
         "2023-05-09T11:35:00Z",
         "202305",
         235.16
        ],
        [
         "2021-03-22T09:01:00Z",
         "202103",
         22.2
        ],
        [
         "2021-03-03T09:00:00Z",
         "202103",
         204.0
        ],
        [
         "2023-01-07T10:54:00Z",
         "202301",
         230.56
        ],
        [
         "2023-01-23T10:55:00Z",
         "202301",
         22.2
        ],
        [
         "2023-01-02T10:53:00Z",
         "202301",
         59.2
        ],
        [
         "2021-08-09T09:45:00Z",
         "202108",
         430.6
        ],
        [
         "2021-08-24T09:53:00Z",
         "202108",
         489.6
        ],
        [
         "2021-11-12T10:03:00Z",
         "202111",
         358.25
        ],
        [
         "2021-11-26T10:19:00Z",
         "202111",
         216.52
        ],
        [
         "2021-01-08T08:28:00Z",
         "202101",
         22.2
        ],
        [
         "2021-01-01T08:26:00Z",
         "202101",
         139.12
        ],
        [
         "2021-01-27T08:34:00Z",
         "202101",
         278.73
        ],
        [
         "2021-05-09T09:32:00Z",
         "202105",
         259.86
        ],
        [
         "2021-05-26T09:32:00Z",
         "202105",
         328.8
        ],
        [
         "2023-03-22T11:20:00Z",
         "202303",
         204.15
        ],
        [
         "2023-03-03T11:02:00Z",
         "202303",
         312.8
        ],
        [
         "2021-09-27T09:57:00Z",
         "202109",
         508.2
        ],
        [
         "2021-09-13T09:56:00Z",
         "202109",
         130.85
        ],
        [
         "2023-02-02T10:56:00Z",
         "202302",
         244.46
        ],
        [
         "2023-02-23T10:58:00Z",
         "202302",
         22.2
        ],
        [
         "2021-02-05T08:34:00Z",
         "202102",
         70.05
        ],
        [
         "2021-02-12T08:34:00Z",
         "202102",
         17.85
        ],
        [
         "2021-02-27T08:34:00Z",
         "202102",
         801.86
        ],
        [
         "2022-06-01T09:38:00Z",
         "202206",
         2187.71
        ],
        [
         "2022-06-01T09:30:00Z",
         "202206",
         1423.1
        ],
        [
         "2022-06-01T09:26:00Z",
         "202206",
         182.94
        ],
        [
         "2022-06-02T11:44:00Z",
         "202206",
         371.7
        ],
        [
         "2022-06-03T15:41:00Z",
         "202206",
         111.98
        ],
        [
         "2022-06-01T09:34:00Z",
         "202206",
         1656.08
        ],
        [
         "2022-06-02T10:54:00Z",
         "202206",
         0.0
        ],
        [
         "2021-10-24T09:59:00Z",
         "202110",
         226.14
        ],
        [
         "2021-10-01T09:58:00Z",
         "202110",
         3193.92
        ],
        [
         "2021-12-23T10:29:00Z",
         "202112",
         318.14
        ],
        [
         "2021-12-30T10:37:00Z",
         "202112",
         79.6
        ],
        [
         "2021-12-31T10:39:00Z",
         "202112",
         1024.68
        ],
        [
         "2021-12-01T10:19:00Z",
         "202112",
         1609.22
        ],
        [
         "2023-04-28T11:22:00Z",
         "202304",
         572.38
        ],
        [
         "2022-06-01T09:49:00Z",
         "202206",
         224.28
        ],
        [
         "2023-04-07T11:21:00Z",
         "202304",
         193.78
        ],
        [
         "2022-06-02T10:12:00Z",
         "202206",
         164.75
        ],
        [
         "2022-06-02T12:42:00Z",
         "202206",
         473.29
        ],
        [
         "2021-07-23T09:41:00Z",
         "202107",
         34.8
        ],
        [
         "2021-07-29T09:41:00Z",
         "202107",
         449.98
        ]
       ],
       "datasetInfos": [],
       "dbfsResultPath": null,
       "isJsonSchema": true,
       "metadata": {
        "dataframeName": "_sqldf",
        "executionCount": 11
       },
       "overflow": false,
       "plotOptions": {
        "customPlotOptions": {},
        "displayType": "table",
        "pivotAggregation": null,
        "pivotColumns": null,
        "xColumns": null,
        "yColumns": null
       },
       "removedWidgets": [],
       "schema": [
        {
         "metadata": "{\"spark.watermarkDelayMs\":86400000}",
         "name": "InvoiceDate",
         "type": "\"timestamp\""
        },
        {
         "metadata": "{}",
         "name": "partdate",
         "type": "\"string\""
        },
        {
         "metadata": "{}",
         "name": "totalSales",
         "type": "\"double\""
        }
       ],
       "type": "table"
      }
     },
     "output_type": "display_data"
    }
   ],
   "source": [
    "%sql\n",
    "SELECT * FROM merrimack.invoices"
   ]
  },
  {
   "cell_type": "code",
   "execution_count": 0,
   "metadata": {
    "application/vnd.databricks.v1+cell": {
     "cellMetadata": {
      "byteLimit": 2048000,
      "implicitDf": true,
      "rowLimit": 10000
     },
     "inputWidgets": {},
     "nuid": "dff142f9-e5f2-4cee-828e-413eadfa6be7",
     "showTitle": false,
     "title": ""
    }
   },
   "outputs": [
    {
     "output_type": "display_data",
     "data": {
      "text/html": [
       "<style scoped>\n",
       "  .table-result-container {\n",
       "    max-height: 300px;\n",
       "    overflow: auto;\n",
       "  }\n",
       "  table, th, td {\n",
       "    border: 1px solid black;\n",
       "    border-collapse: collapse;\n",
       "  }\n",
       "  th, td {\n",
       "    padding: 5px;\n",
       "  }\n",
       "  th {\n",
       "    text-align: left;\n",
       "  }\n",
       "</style><div class='table-result-container'><table class='table-result'><thead style='background-color: white'><tr><th>version</th><th>timestamp</th><th>userId</th><th>userName</th><th>operation</th><th>operationParameters</th><th>job</th><th>notebook</th><th>clusterId</th><th>readVersion</th><th>isolationLevel</th><th>isBlindAppend</th><th>operationMetrics</th><th>userMetadata</th><th>engineInfo</th></tr></thead><tbody><tr><td>2</td><td>2024-06-12T21:53:26Z</td><td>2551193103357533</td><td>g27258752@gwu.edu</td><td>STREAMING UPDATE</td><td>Map(outputMode -> Append, queryId -> e80722e9-0821-4c75-88d5-ae98e7106208, epochId -> 1, statsOnLoad -> false)</td><td>null</td><td>List(456803328417616)</td><td>0330-191842-alkvksrc</td><td>1</td><td>WriteSerializable</td><td>true</td><td>Map(numRemovedFiles -> 0, numOutputRows -> 50, numOutputBytes -> 40682, numAddedFiles -> 48)</td><td>null</td><td>Databricks-Runtime/15.0.x-cpu-ml-scala2.12</td></tr><tr><td>1</td><td>2024-06-12T21:52:45Z</td><td>2551193103357533</td><td>g27258752@gwu.edu</td><td>STREAMING UPDATE</td><td>Map(outputMode -> Append, queryId -> e80722e9-0821-4c75-88d5-ae98e7106208, epochId -> 0, statsOnLoad -> false)</td><td>null</td><td>List(456803328417616)</td><td>0330-191842-alkvksrc</td><td>0</td><td>WriteSerializable</td><td>true</td><td>Map(numRemovedFiles -> 0, numOutputRows -> 0, numOutputBytes -> 0, numAddedFiles -> 0)</td><td>null</td><td>Databricks-Runtime/15.0.x-cpu-ml-scala2.12</td></tr><tr><td>0</td><td>2024-06-12T21:51:51Z</td><td>2551193103357533</td><td>g27258752@gwu.edu</td><td>CREATE TABLE</td><td>Map(partitionBy -> [\"partdate\"], description -> null, isManaged -> true, properties -> {\"delta.enableDeletionVectors\":\"true\"}, statsOnLoad -> false)</td><td>null</td><td>List(456803328417616)</td><td>0330-191842-alkvksrc</td><td>null</td><td>WriteSerializable</td><td>true</td><td>Map()</td><td>null</td><td>Databricks-Runtime/15.0.x-cpu-ml-scala2.12</td></tr></tbody></table></div>"
      ]
     },
     "metadata": {
      "application/vnd.databricks.v1+output": {
       "addedWidgets": {},
       "aggData": [],
       "aggError": "",
       "aggOverflow": false,
       "aggSchema": [],
       "aggSeriesLimitReached": false,
       "aggType": "",
       "arguments": {},
       "columnCustomDisplayInfos": {},
       "data": [
        [
         2,
         "2024-06-12T21:53:26Z",
         "2551193103357533",
         "g27258752@gwu.edu",
         "STREAMING UPDATE",
         {
          "epochId": "1",
          "outputMode": "Append",
          "queryId": "e80722e9-0821-4c75-88d5-ae98e7106208",
          "statsOnLoad": "false"
         },
         null,
         [
          "456803328417616"
         ],
         "0330-191842-alkvksrc",
         1,
         "WriteSerializable",
         true,
         {
          "numAddedFiles": "48",
          "numOutputBytes": "40682",
          "numOutputRows": "50",
          "numRemovedFiles": "0"
         },
         null,
         "Databricks-Runtime/15.0.x-cpu-ml-scala2.12"
        ],
        [
         1,
         "2024-06-12T21:52:45Z",
         "2551193103357533",
         "g27258752@gwu.edu",
         "STREAMING UPDATE",
         {
          "epochId": "0",
          "outputMode": "Append",
          "queryId": "e80722e9-0821-4c75-88d5-ae98e7106208",
          "statsOnLoad": "false"
         },
         null,
         [
          "456803328417616"
         ],
         "0330-191842-alkvksrc",
         0,
         "WriteSerializable",
         true,
         {
          "numAddedFiles": "0",
          "numOutputBytes": "0",
          "numOutputRows": "0",
          "numRemovedFiles": "0"
         },
         null,
         "Databricks-Runtime/15.0.x-cpu-ml-scala2.12"
        ],
        [
         0,
         "2024-06-12T21:51:51Z",
         "2551193103357533",
         "g27258752@gwu.edu",
         "CREATE TABLE",
         {
          "description": null,
          "isManaged": "true",
          "partitionBy": "[\"partdate\"]",
          "properties": "{\"delta.enableDeletionVectors\":\"true\"}",
          "statsOnLoad": "false"
         },
         null,
         [
          "456803328417616"
         ],
         "0330-191842-alkvksrc",
         null,
         "WriteSerializable",
         true,
         {},
         null,
         "Databricks-Runtime/15.0.x-cpu-ml-scala2.12"
        ]
       ],
       "datasetInfos": [],
       "dbfsResultPath": null,
       "isJsonSchema": true,
       "metadata": {
        "dataframeName": "_sqldf",
        "executionCount": 12
       },
       "overflow": false,
       "plotOptions": {
        "customPlotOptions": {},
        "displayType": "table",
        "pivotAggregation": null,
        "pivotColumns": null,
        "xColumns": null,
        "yColumns": null
       },
       "removedWidgets": [],
       "schema": [
        {
         "metadata": "{}",
         "name": "version",
         "type": "\"long\""
        },
        {
         "metadata": "{}",
         "name": "timestamp",
         "type": "\"timestamp\""
        },
        {
         "metadata": "{}",
         "name": "userId",
         "type": "\"string\""
        },
        {
         "metadata": "{}",
         "name": "userName",
         "type": "\"string\""
        },
        {
         "metadata": "{}",
         "name": "operation",
         "type": "\"string\""
        },
        {
         "metadata": "{}",
         "name": "operationParameters",
         "type": "{\"type\":\"map\",\"keyType\":\"string\",\"valueType\":\"string\",\"valueContainsNull\":true}"
        },
        {
         "metadata": "{}",
         "name": "job",
         "type": "{\"type\":\"struct\",\"fields\":[{\"name\":\"jobId\",\"type\":\"string\",\"nullable\":true,\"metadata\":{}},{\"name\":\"jobName\",\"type\":\"string\",\"nullable\":true,\"metadata\":{}},{\"name\":\"jobRunId\",\"type\":\"string\",\"nullable\":true,\"metadata\":{}},{\"name\":\"runId\",\"type\":\"string\",\"nullable\":true,\"metadata\":{}},{\"name\":\"jobOwnerId\",\"type\":\"string\",\"nullable\":true,\"metadata\":{}},{\"name\":\"triggerType\",\"type\":\"string\",\"nullable\":true,\"metadata\":{}}]}"
        },
        {
         "metadata": "{}",
         "name": "notebook",
         "type": "{\"type\":\"struct\",\"fields\":[{\"name\":\"notebookId\",\"type\":\"string\",\"nullable\":true,\"metadata\":{}}]}"
        },
        {
         "metadata": "{}",
         "name": "clusterId",
         "type": "\"string\""
        },
        {
         "metadata": "{}",
         "name": "readVersion",
         "type": "\"long\""
        },
        {
         "metadata": "{}",
         "name": "isolationLevel",
         "type": "\"string\""
        },
        {
         "metadata": "{}",
         "name": "isBlindAppend",
         "type": "\"boolean\""
        },
        {
         "metadata": "{}",
         "name": "operationMetrics",
         "type": "{\"type\":\"map\",\"keyType\":\"string\",\"valueType\":\"string\",\"valueContainsNull\":true}"
        },
        {
         "metadata": "{}",
         "name": "userMetadata",
         "type": "\"string\""
        },
        {
         "metadata": "{}",
         "name": "engineInfo",
         "type": "\"string\""
        }
       ],
       "type": "table"
      }
     },
     "output_type": "display_data"
    }
   ],
   "source": [
    "%sql\n",
    "describe history merrimack.invoices"
   ]
  },
  {
   "cell_type": "code",
   "execution_count": 0,
   "metadata": {
    "application/vnd.databricks.v1+cell": {
     "cellMetadata": {
      "byteLimit": 2048000,
      "rowLimit": 10000
     },
     "inputWidgets": {},
     "nuid": "df4b97af-6021-434a-b208-71f828d1111d",
     "showTitle": false,
     "title": ""
    }
   },
   "outputs": [],
   "source": [
    "WriteStream.stop()"
   ]
  },
  {
   "cell_type": "code",
   "execution_count": 0,
   "metadata": {
    "application/vnd.databricks.v1+cell": {
     "cellMetadata": {
      "byteLimit": 2048000,
      "implicitDf": true,
      "rowLimit": 10000
     },
     "inputWidgets": {},
     "nuid": "2628bc8a-ea1f-4122-8d0d-d6bf011df0a8",
     "showTitle": false,
     "title": ""
    }
   },
   "outputs": [
    {
     "output_type": "display_data",
     "data": {
      "text/html": [
       "<style scoped>\n",
       "  .table-result-container {\n",
       "    max-height: 300px;\n",
       "    overflow: auto;\n",
       "  }\n",
       "  table, th, td {\n",
       "    border: 1px solid black;\n",
       "    border-collapse: collapse;\n",
       "  }\n",
       "  th, td {\n",
       "    padding: 5px;\n",
       "  }\n",
       "  th {\n",
       "    text-align: left;\n",
       "  }\n",
       "</style><div class='table-result-container'><table class='table-result'><thead style='background-color: white'><tr><th>partdate</th></tr></thead><tbody><tr><td>202110</td></tr><tr><td>202101</td></tr><tr><td>202111</td></tr><tr><td>202304</td></tr><tr><td>202108</td></tr><tr><td>202109</td></tr><tr><td>202303</td></tr><tr><td>202206</td></tr><tr><td>202102</td></tr><tr><td>202105</td></tr><tr><td>202305</td></tr><tr><td>202103</td></tr><tr><td>202107</td></tr><tr><td>202112</td></tr><tr><td>202301</td></tr><tr><td>202302</td></tr><tr><td>202104</td></tr><tr><td>202106</td></tr></tbody></table></div>"
      ]
     },
     "metadata": {
      "application/vnd.databricks.v1+output": {
       "addedWidgets": {},
       "aggData": [],
       "aggError": "",
       "aggOverflow": false,
       "aggSchema": [],
       "aggSeriesLimitReached": false,
       "aggType": "",
       "arguments": {},
       "columnCustomDisplayInfos": {},
       "data": [
        [
         "202110"
        ],
        [
         "202101"
        ],
        [
         "202111"
        ],
        [
         "202304"
        ],
        [
         "202108"
        ],
        [
         "202109"
        ],
        [
         "202303"
        ],
        [
         "202206"
        ],
        [
         "202102"
        ],
        [
         "202105"
        ],
        [
         "202305"
        ],
        [
         "202103"
        ],
        [
         "202107"
        ],
        [
         "202112"
        ],
        [
         "202301"
        ],
        [
         "202302"
        ],
        [
         "202104"
        ],
        [
         "202106"
        ]
       ],
       "datasetInfos": [],
       "dbfsResultPath": null,
       "isJsonSchema": true,
       "metadata": {
        "dataframeName": "_sqldf",
        "executionCount": 16
       },
       "overflow": false,
       "plotOptions": {
        "customPlotOptions": {},
        "displayType": "table",
        "pivotAggregation": null,
        "pivotColumns": null,
        "xColumns": null,
        "yColumns": null
       },
       "removedWidgets": [],
       "schema": [
        {
         "metadata": "{}",
         "name": "partdate",
         "type": "\"string\""
        }
       ],
       "type": "table"
      }
     },
     "output_type": "display_data"
    }
   ],
   "source": [
    "%sql\n",
    "show partitions merrimack.invoices"
   ]
  },
  {
   "cell_type": "code",
   "execution_count": 0,
   "metadata": {
    "application/vnd.databricks.v1+cell": {
     "cellMetadata": {
      "byteLimit": 2048000,
      "implicitDf": true,
      "rowLimit": 10000
     },
     "inputWidgets": {},
     "nuid": "8156070b-9b14-4640-bed1-26292923ba58",
     "showTitle": false,
     "title": ""
    }
   },
   "outputs": [
    {
     "output_type": "display_data",
     "data": {
      "text/html": [
       "<style scoped>\n",
       "  .table-result-container {\n",
       "    max-height: 300px;\n",
       "    overflow: auto;\n",
       "  }\n",
       "  table, th, td {\n",
       "    border: 1px solid black;\n",
       "    border-collapse: collapse;\n",
       "  }\n",
       "  th, td {\n",
       "    padding: 5px;\n",
       "  }\n",
       "  th {\n",
       "    text-align: left;\n",
       "  }\n",
       "</style><div class='table-result-container'><table class='table-result'><thead style='background-color: white'><tr><th>path</th><th>metrics</th></tr></thead><tbody><tr><td>dbfs:/user/hive/warehouse/merrimack.db/invoices</td><td>List(17, 47, List(814, 953, 829.8823529411765, 17, 14108), List(815, 849, 848.2340425531914, 47, 39867), 18, List(minCubeSize(107374182400), List(0, 0), List(48, 40682), 0, List(47, 39867), 17, null), 1, 48, 1, false, 0, 0, 1718229392923, 1718229413342, 4, 17, null, List(0, 0), 3, 3, 4340, 0, null)</td></tr></tbody></table></div>"
      ]
     },
     "metadata": {
      "application/vnd.databricks.v1+output": {
       "addedWidgets": {},
       "aggData": [],
       "aggError": "",
       "aggOverflow": false,
       "aggSchema": [],
       "aggSeriesLimitReached": false,
       "aggType": "",
       "arguments": {},
       "columnCustomDisplayInfos": {},
       "data": [
        [
         "dbfs:/user/hive/warehouse/merrimack.db/invoices",
         [
          17,
          47,
          [
           814,
           953,
           829.8823529411765,
           17,
           14108
          ],
          [
           815,
           849,
           848.2340425531914,
           47,
           39867
          ],
          18,
          [
           "minCubeSize(107374182400)",
           [
            0,
            0
           ],
           [
            48,
            40682
           ],
           0,
           [
            47,
            39867
           ],
           17,
           null
          ],
          1,
          48,
          1,
          false,
          0,
          0,
          1718229392923,
          1718229413342,
          4,
          17,
          null,
          [
           0,
           0
          ],
          3,
          3,
          4340,
          0,
          null
         ]
        ]
       ],
       "datasetInfos": [],
       "dbfsResultPath": null,
       "isJsonSchema": true,
       "metadata": {
        "dataframeName": "_sqldf",
        "executionCount": 17
       },
       "overflow": false,
       "plotOptions": {
        "customPlotOptions": {},
        "displayType": "table",
        "pivotAggregation": null,
        "pivotColumns": null,
        "xColumns": null,
        "yColumns": null
       },
       "removedWidgets": [],
       "schema": [
        {
         "metadata": "{}",
         "name": "path",
         "type": "\"string\""
        },
        {
         "metadata": "{}",
         "name": "metrics",
         "type": "{\"type\":\"struct\",\"fields\":[{\"name\":\"numFilesAdded\",\"type\":\"long\",\"nullable\":false,\"metadata\":{}},{\"name\":\"numFilesRemoved\",\"type\":\"long\",\"nullable\":false,\"metadata\":{}},{\"name\":\"filesAdded\",\"type\":{\"type\":\"struct\",\"fields\":[{\"name\":\"min\",\"type\":\"long\",\"nullable\":true,\"metadata\":{}},{\"name\":\"max\",\"type\":\"long\",\"nullable\":true,\"metadata\":{}},{\"name\":\"avg\",\"type\":\"double\",\"nullable\":false,\"metadata\":{}},{\"name\":\"totalFiles\",\"type\":\"long\",\"nullable\":false,\"metadata\":{}},{\"name\":\"totalSize\",\"type\":\"long\",\"nullable\":false,\"metadata\":{}}]},\"nullable\":true,\"metadata\":{}},{\"name\":\"filesRemoved\",\"type\":{\"type\":\"struct\",\"fields\":[{\"name\":\"min\",\"type\":\"long\",\"nullable\":true,\"metadata\":{}},{\"name\":\"max\",\"type\":\"long\",\"nullable\":true,\"metadata\":{}},{\"name\":\"avg\",\"type\":\"double\",\"nullable\":false,\"metadata\":{}},{\"name\":\"totalFiles\",\"type\":\"long\",\"nullable\":false,\"metadata\":{}},{\"name\":\"totalSize\",\"type\":\"long\",\"nullable\":false,\"metadata\":{}}]},\"nullable\":true,\"metadata\":{}},{\"name\":\"partitionsOptimized\",\"type\":\"long\",\"nullable\":false,\"metadata\":{}},{\"name\":\"zOrderStats\",\"type\":{\"type\":\"struct\",\"fields\":[{\"name\":\"strategyName\",\"type\":\"string\",\"nullable\":true,\"metadata\":{}},{\"name\":\"inputCubeFiles\",\"type\":{\"type\":\"struct\",\"fields\":[{\"name\":\"num\",\"type\":\"long\",\"nullable\":false,\"metadata\":{}},{\"name\":\"size\",\"type\":\"long\",\"nullable\":false,\"metadata\":{}}]},\"nullable\":true,\"metadata\":{}},{\"name\":\"inputOtherFiles\",\"type\":{\"type\":\"struct\",\"fields\":[{\"name\":\"num\",\"type\":\"long\",\"nullable\":false,\"metadata\":{}},{\"name\":\"size\",\"type\":\"long\",\"nullable\":false,\"metadata\":{}}]},\"nullable\":true,\"metadata\":{}},{\"name\":\"inputNumCubes\",\"type\":\"long\",\"nullable\":false,\"metadata\":{}},{\"name\":\"mergedFiles\",\"type\":{\"type\":\"struct\",\"fields\":[{\"name\":\"num\",\"type\":\"long\",\"nullable\":false,\"metadata\":{}},{\"name\":\"size\",\"type\":\"long\",\"nullable\":false,\"metadata\":{}}]},\"nullable\":true,\"metadata\":{}},{\"name\":\"numOutputCubes\",\"type\":\"long\",\"nullable\":false,\"metadata\":{}},{\"name\":\"mergedNumCubes\",\"type\":\"long\",\"nullable\":true,\"metadata\":{}}]},\"nullable\":true,\"metadata\":{}},{\"name\":\"numBatches\",\"type\":\"long\",\"nullable\":false,\"metadata\":{}},{\"name\":\"totalConsideredFiles\",\"type\":\"long\",\"nullable\":false,\"metadata\":{}},{\"name\":\"totalFilesSkipped\",\"type\":\"long\",\"nullable\":false,\"metadata\":{}},{\"name\":\"preserveInsertionOrder\",\"type\":\"boolean\",\"nullable\":false,\"metadata\":{}},{\"name\":\"numFilesSkippedToReduceWriteAmplification\",\"type\":\"long\",\"nullable\":false,\"metadata\":{}},{\"name\":\"numBytesSkippedToReduceWriteAmplification\",\"type\":\"long\",\"nullable\":false,\"metadata\":{}},{\"name\":\"startTimeMs\",\"type\":\"long\",\"nullable\":false,\"metadata\":{}},{\"name\":\"endTimeMs\",\"type\":\"long\",\"nullable\":false,\"metadata\":{}},{\"name\":\"totalClusterParallelism\",\"type\":\"long\",\"nullable\":false,\"metadata\":{}},{\"name\":\"totalScheduledTasks\",\"type\":\"long\",\"nullable\":false,\"metadata\":{}},{\"name\":\"autoCompactParallelismStats\",\"type\":{\"type\":\"struct\",\"fields\":[{\"name\":\"maxClusterActiveParallelism\",\"type\":\"long\",\"nullable\":true,\"metadata\":{}},{\"name\":\"minClusterActiveParallelism\",\"type\":\"long\",\"nullable\":true,\"metadata\":{}},{\"name\":\"maxSessionActiveParallelism\",\"type\":\"long\",\"nullable\":true,\"metadata\":{}},{\"name\":\"minSessionActiveParallelism\",\"type\":\"long\",\"nullable\":true,\"metadata\":{}}]},\"nullable\":true,\"metadata\":{}},{\"name\":\"deletionVectorStats\",\"type\":{\"type\":\"struct\",\"fields\":[{\"name\":\"numDeletionVectorsRemoved\",\"type\":\"long\",\"nullable\":false,\"metadata\":{}},{\"name\":\"numDeletionVectorRowsRemoved\",\"type\":\"long\",\"nullable\":false,\"metadata\":{}}]},\"nullable\":true,\"metadata\":{}},{\"name\":\"numTableColumns\",\"type\":\"long\",\"nullable\":false,\"metadata\":{}},{\"name\":\"numTableColumnsWithStats\",\"type\":\"long\",\"nullable\":false,\"metadata\":{}},{\"name\":\"totalTaskExecutionTimeMs\",\"type\":\"long\",\"nullable\":false,\"metadata\":{}},{\"name\":\"skippedArchivedFiles\",\"type\":\"long\",\"nullable\":false,\"metadata\":{}},{\"name\":\"clusteringMetrics\",\"type\":{\"type\":\"struct\",\"fields\":[{\"name\":\"sizeOfTableInBytesBeforeLazyClustering\",\"type\":\"long\",\"nullable\":false,\"metadata\":{}},{\"name\":\"isNewMetadataCreated\",\"type\":\"boolean\",\"nullable\":false,\"metadata\":{}},{\"name\":\"numFilesClassifiedToIntermediateNodes\",\"type\":\"long\",\"nullable\":false,\"metadata\":{}},{\"name\":\"sizeOfFilesClassifiedToIntermediateNodesInBytes\",\"type\":\"long\",\"nullable\":false,\"metadata\":{}},{\"name\":\"logicalSizeOfFilesClassifiedToIntermediateNodesInBytes\",\"type\":\"long\",\"nullable\":false,\"metadata\":{}},{\"name\":\"numFilesClassifiedToLeafNodes\",\"type\":\"long\",\"nullable\":false,\"metadata\":{}},{\"name\":\"sizeOfFilesClassifiedToLeafNodesInBytes\",\"type\":\"long\",\"nullable\":false,\"metadata\":{}},{\"name\":\"logicalSizeOfFilesClassifiedToLeafNodesInBytes\",\"type\":\"long\",\"nullable\":false,\"metadata\":{}},{\"name\":\"numThreadsForClassifier\",\"type\":\"integer\",\"nullable\":true,\"metadata\":{}},{\"name\":\"clusterThresholdStrategy\",\"type\":\"string\",\"nullable\":true,\"metadata\":{}},{\"name\":\"minFileSize\",\"type\":\"long\",\"nullable\":false,\"metadata\":{}},{\"name\":\"maxFileSize\",\"type\":\"long\",\"nullable\":false,\"metadata\":{}},{\"name\":\"nodeMinNumFilesToCompact\",\"type\":\"long\",\"nullable\":false,\"metadata\":{}},{\"name\":\"numIdealFiles\",\"type\":\"long\",\"nullable\":false,\"metadata\":{}},{\"name\":\"numClusteringTasksPlanned\",\"type\":\"integer\",\"nullable\":false,\"metadata\":{}},{\"name\":\"numCompactionTasksPlanned\",\"type\":\"integer\",\"nullable\":false,\"metadata\":{}},{\"name\":\"numOptimizeBatchesPlanned\",\"type\":\"integer\",\"nullable\":false,\"metadata\":{}},{\"name\":\"numLeafNodesExpanded\",\"type\":\"long\",\"nullable\":false,\"metadata\":{}},{\"name\":\"numLeafNodesClustered\",\"type\":\"long\",\"nullable\":false,\"metadata\":{}},{\"name\":\"numGetFilesForNodeCalls\",\"type\":\"long\",\"nullable\":false,\"metadata\":{}},{\"name\":\"numSamplingJobs\",\"type\":\"long\",\"nullable\":false,\"metadata\":{}},{\"name\":\"numLeafNodesCompacted\",\"type\":\"long\",\"nullable\":false,\"metadata\":{}},{\"name\":\"numIntermediateNodesCompacted\",\"type\":\"long\",\"nullable\":false,\"metadata\":{}},{\"name\":\"totalSizeOfDataToCompactInBytes\",\"type\":\"long\",\"nullable\":false,\"metadata\":{}},{\"name\":\"totalLogicalSizeOfDataToCompactInBytes\",\"type\":\"long\",\"nullable\":false,\"metadata\":{}},{\"name\":\"numIntermediateNodesClustered\",\"type\":\"long\",\"nullable\":false,\"metadata\":{}},{\"name\":\"numFilesSkippedAfterExpansion\",\"type\":\"long\",\"nullable\":false,\"metadata\":{}},{\"name\":\"totalSizeOfFilesSkippedAfterExpansionInBytes\",\"type\":\"long\",\"nullable\":false,\"metadata\":{}},{\"name\":\"totalLogicalSizeOfFilesSkippedAfterExpansionInBytes\",\"type\":\"long\",\"nullable\":false,\"metadata\":{}},{\"name\":\"totalSizeOfDataToRewriteInBytes\",\"type\":\"long\",\"nullable\":false,\"metadata\":{}},{\"name\":\"totalLogicalSizeOfDataToRewriteInBytes\",\"type\":\"long\",\"nullable\":false,\"metadata\":{}},{\"name\":\"timeMetrics\",\"type\":{\"type\":\"struct\",\"fields\":[{\"name\":\"classifierTimeMs\",\"type\":\"long\",\"nullable\":false,\"metadata\":{}},{\"name\":\"optimizerTimeMs\",\"type\":\"long\",\"nullable\":false,\"metadata\":{}},{\"name\":\"metadataLoadTimeMs\",\"type\":\"long\",\"nullable\":false,\"metadata\":{}},{\"name\":\"totalGetFilesForNodeCallsTimeMs\",\"type\":\"long\",\"nullable\":false,\"metadata\":{}},{\"name\":\"totalSamplingTimeMs\",\"type\":\"long\",\"nullable\":false,\"metadata\":{}},{\"name\":\"metadataCreationTimeMs\",\"type\":\"long\",\"nullable\":false,\"metadata\":{}}]},\"nullable\":true,\"metadata\":{}},{\"name\":\"maxOptimizeBatchesInParallel\",\"type\":\"long\",\"nullable\":false,\"metadata\":{}},{\"name\":\"currentIteration\",\"type\":\"integer\",\"nullable\":false,\"metadata\":{}},{\"name\":\"maxIterations\",\"type\":\"integer\",\"nullable\":false,\"metadata\":{}},{\"name\":\"clusteringStrategy\",\"type\":\"string\",\"nullable\":true,\"metadata\":{}}]},\"nullable\":true,\"metadata\":{}}]}"
        }
       ],
       "type": "table"
      }
     },
     "output_type": "display_data"
    }
   ],
   "source": [
    "%sql\n",
    "OPTIMIZE merrimack.invoices ZORDER BY (InvoiceDate)"
   ]
  }
 ],
 "metadata": {
  "application/vnd.databricks.v1+notebook": {
   "dashboards": [],
   "environmentMetadata": null,
   "language": "python",
   "notebookMetadata": {
    "mostRecentlyExecutedCommandWithImplicitDF": {
     "commandId": 766354866862763,
     "dataframes": [
      "_sqldf"
     ]
    },
    "pythonIndentUnit": 4
   },
   "notebookName": "Week7_Streaming_Aggregation",
   "widgets": {}
  }
 },
 "nbformat": 4,
 "nbformat_minor": 0
}
