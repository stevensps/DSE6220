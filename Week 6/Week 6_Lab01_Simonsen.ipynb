{
 "cells": [
  {
   "cell_type": "code",
   "execution_count": null,
   "metadata": {
    "application/vnd.databricks.v1+cell": {
     "cellMetadata": {},
     "inputWidgets": {},
     "nuid": "5f6d602e-f1a3-4466-b11f-6918a22b19eb",
     "showTitle": false,
     "title": ""
    }
   },
   "outputs": [],
   "source": [
    "'''\n",
    "In this notebook, you'll notice my comments in the code. Ultimately, I had to use two different strategies for exporting the csv, and for writing it to a specified path in dbfs. I tried to use the Databricks CLI to export from dbfs to local, but was unsucessful in the installation so I went with the below code. Let me know if you have questions.\n",
    "'''"
   ]
  },
  {
   "cell_type": "code",
   "execution_count": null,
   "metadata": {
    "application/vnd.databricks.v1+cell": {
     "cellMetadata": {
      "byteLimit": 2048000,
      "rowLimit": 10000
     },
     "inputWidgets": {},
     "nuid": "d77cf1bf-4b2e-491d-b38e-400d805d6844",
     "showTitle": false,
     "title": ""
    }
   },
   "outputs": [],
   "source": [
    "from pyspark.sql.types import StructType, StructField, StringType , IntegerType, FloatType, TimestampType, DoubleType\n",
    "from pyspark.sql import functions as F\n",
    "spark.conf.set(\"spark.sql.legacy.timeParserPolicy\", \"LEGACY\")\n",
    "\n",
    "\n",
    "schema = StructType([   \n",
    "                     StructField('device_id',IntegerType()),\n",
    "                     StructField('device_name',StringType()),\n",
    "                     StructField('ip',StringType()),\n",
    "                     StructField('cca2',StringType()),\n",
    "                     StructField('cca3',StringType()),\n",
    "                     StructField('cn',StringType()),\n",
    "                     StructField('latitude',FloatType()),\n",
    "                     StructField('longitude',FloatType()),\n",
    "                     StructField('scale',StringType()),\n",
    "                     StructField('temp',IntegerType()),\n",
    "                     StructField('humidity',IntegerType()),\n",
    "                     StructField('battery_level',IntegerType()),\n",
    "                     StructField('c02_level',IntegerType()),\n",
    "                     StructField('lcd',StringType()),\n",
    "                     StructField('timestamp',TimestampType()),\n",
    "\n",
    "\n",
    "])"
   ]
  },
  {
   "cell_type": "code",
   "execution_count": null,
   "metadata": {
    "application/vnd.databricks.v1+cell": {
     "cellMetadata": {
      "byteLimit": 2048000,
      "implicitDf": true,
      "rowLimit": 10000
     },
     "inputWidgets": {},
     "nuid": "d748fa68-6aac-4637-8c47-bb64cf9ab419",
     "showTitle": false,
     "title": ""
    }
   },
   "outputs": [
    {
     "data": {
      "text/html": [
       "<style scoped>\n",
       "  .table-result-container {\n",
       "    max-height: 300px;\n",
       "    overflow: auto;\n",
       "  }\n",
       "  table, th, td {\n",
       "    border: 1px solid black;\n",
       "    border-collapse: collapse;\n",
       "  }\n",
       "  th, td {\n",
       "    padding: 5px;\n",
       "  }\n",
       "  th {\n",
       "    text-align: left;\n",
       "  }\n",
       "</style><div class='table-result-container'><table class='table-result'><thead style='background-color: white'><tr></tr></thead><tbody></tbody></table></div>"
      ]
     },
     "metadata": {
      "application/vnd.databricks.v1+output": {
       "addedWidgets": {},
       "aggData": [],
       "aggError": "",
       "aggOverflow": false,
       "aggSchema": [],
       "aggSeriesLimitReached": false,
       "aggType": "",
       "arguments": {},
       "columnCustomDisplayInfos": {},
       "data": [],
       "datasetInfos": [],
       "dbfsResultPath": null,
       "isJsonSchema": true,
       "metadata": {
        "dataframeName": null
       },
       "overflow": false,
       "plotOptions": {
        "customPlotOptions": {},
        "displayType": "table",
        "pivotAggregation": null,
        "pivotColumns": null,
        "xColumns": null,
        "yColumns": null
       },
       "removedWidgets": [],
       "schema": [],
       "type": "table"
      }
     },
     "output_type": "display_data"
    }
   ],
   "source": [
    "%sql\n",
    "\n",
    "drop schema if exists bronze CASCADE ;\n",
    "create schema if not exists bronze ;\n",
    "drop table if exists bronze.countries; \n",
    "use bronze"
   ]
  },
  {
   "cell_type": "code",
   "execution_count": null,
   "metadata": {
    "application/vnd.databricks.v1+cell": {
     "cellMetadata": {
      "byteLimit": 2048000,
      "rowLimit": 10000
     },
     "inputWidgets": {},
     "nuid": "60316daa-5343-4de7-aa8a-000dbd0d02aa",
     "showTitle": false,
     "title": ""
    }
   },
   "outputs": [
    {
     "data": {
      "text/plain": [
       "False"
      ]
     },
     "execution_count": 161,
     "metadata": {},
     "output_type": "execute_result"
    }
   ],
   "source": [
    "dbutils.fs.rm(\"dbfs:/FileStore/Merrimack/Week_6/bronzecheckpoint\", recurse= True)\n",
    "dbutils.fs.rm(\"dbfs:/FileStore/Merrimack/Week_6/silvercheckpoint\", recurse= True)"
   ]
  },
  {
   "cell_type": "code",
   "execution_count": null,
   "metadata": {
    "application/vnd.databricks.v1+cell": {
     "cellMetadata": {
      "byteLimit": 2048000,
      "rowLimit": 10000
     },
     "inputWidgets": {},
     "nuid": "e63479c0-aea2-4b2e-a60b-7ad26ae5d21a",
     "showTitle": false,
     "title": ""
    }
   },
   "outputs": [],
   "source": [
    "source_dir = 'dbfs:/FileStore/Merrimack/Week_6'\n",
    "countries_bronze= (spark.readStream.format(\"json\")\n",
    "                   .option('header', 'true')\n",
    "                   .schema(schema)\n",
    "                   .load(source_dir)\n",
    ")"
   ]
  },
  {
   "cell_type": "code",
   "execution_count": null,
   "metadata": {
    "application/vnd.databricks.v1+cell": {
     "cellMetadata": {
      "byteLimit": 2048000,
      "rowLimit": 10000
     },
     "inputWidgets": {},
     "nuid": "9256d849-8b62-4af5-a371-0c16d80f635f",
     "showTitle": false,
     "title": ""
    }
   },
   "outputs": [],
   "source": [
    "WriteStream = (countries_bronze.writeStream\n",
    "               .option('checkpointLocation',f'{source_dir}/bronzecheckpoint')\n",
    "               .partitionBy('cn')\n",
    "               .outputMode(\"append\")\n",
    "               .queryName('AppendBronze')\n",
    "               .toTable(\"bronze.countries\")\n",
    "                       \n",
    ")"
   ]
  },
  {
   "cell_type": "code",
   "execution_count": null,
   "metadata": {
    "application/vnd.databricks.v1+cell": {
     "cellMetadata": {
      "byteLimit": 2048000,
      "implicitDf": true,
      "rowLimit": 10000
     },
     "inputWidgets": {},
     "nuid": "f8ad26e8-2d5b-40b5-8def-7bab7ef9816d",
     "showTitle": false,
     "title": ""
    }
   },
   "outputs": [
    {
     "data": {
      "text/html": [
       "<style scoped>\n",
       "  .table-result-container {\n",
       "    max-height: 300px;\n",
       "    overflow: auto;\n",
       "  }\n",
       "  table, th, td {\n",
       "    border: 1px solid black;\n",
       "    border-collapse: collapse;\n",
       "  }\n",
       "  th, td {\n",
       "    padding: 5px;\n",
       "  }\n",
       "  th {\n",
       "    text-align: left;\n",
       "  }\n",
       "</style><div class='table-result-container'><table class='table-result'><thead style='background-color: white'><tr></tr></thead><tbody></tbody></table></div>"
      ]
     },
     "metadata": {
      "application/vnd.databricks.v1+output": {
       "addedWidgets": {},
       "aggData": [],
       "aggError": "",
       "aggOverflow": false,
       "aggSchema": [],
       "aggSeriesLimitReached": false,
       "aggType": "",
       "arguments": {},
       "columnCustomDisplayInfos": {},
       "data": [],
       "datasetInfos": [],
       "dbfsResultPath": null,
       "isJsonSchema": true,
       "metadata": {
        "dataframeName": null
       },
       "overflow": false,
       "plotOptions": {
        "customPlotOptions": {},
        "displayType": "table",
        "pivotAggregation": null,
        "pivotColumns": null,
        "xColumns": null,
        "yColumns": null
       },
       "removedWidgets": [],
       "schema": [],
       "type": "table"
      }
     },
     "output_type": "display_data"
    }
   ],
   "source": [
    "%sql\n",
    "drop schema if exists silver CASCADE ;\n",
    "create schema if not exists silver ;\n",
    "drop table if exists silver.countries; \n",
    "use silver ;"
   ]
  },
  {
   "cell_type": "code",
   "execution_count": null,
   "metadata": {
    "application/vnd.databricks.v1+cell": {
     "cellMetadata": {
      "byteLimit": 2048000,
      "implicitDf": true,
      "rowLimit": 10000
     },
     "inputWidgets": {},
     "nuid": "44d34d3b-610a-455b-ad5a-652347c22bee",
     "showTitle": false,
     "title": ""
    }
   },
   "outputs": [],
   "source": [
    "%sql\n",
    "\n",
    "select * from bronze.countries limit 10"
   ]
  },
  {
   "cell_type": "code",
   "execution_count": null,
   "metadata": {
    "application/vnd.databricks.v1+cell": {
     "cellMetadata": {
      "byteLimit": 2048000,
      "rowLimit": 10000
     },
     "inputWidgets": {},
     "nuid": "c684fbe5-08d7-46c2-9d05-58f7e70b3732",
     "showTitle": false,
     "title": ""
    }
   },
   "outputs": [
    {
     "data": {
      "text/plain": [
       "[FileInfo(path='dbfs:/user/hive/warehouse/bronze.db/countries/_delta_log/', name='_delta_log/', size=0, modificationTime=1718561184000),\n",
       " FileInfo(path='dbfs:/user/hive/warehouse/bronze.db/countries/cn=Austria/', name='cn=Austria/', size=0, modificationTime=1718561189000),\n",
       " FileInfo(path='dbfs:/user/hive/warehouse/bronze.db/countries/cn=Canada/', name='cn=Canada/', size=0, modificationTime=1718561189000),\n",
       " FileInfo(path='dbfs:/user/hive/warehouse/bronze.db/countries/cn=China/', name='cn=China/', size=0, modificationTime=1718561189000),\n",
       " FileInfo(path='dbfs:/user/hive/warehouse/bronze.db/countries/cn=India/', name='cn=India/', size=0, modificationTime=1718561189000),\n",
       " FileInfo(path='dbfs:/user/hive/warehouse/bronze.db/countries/cn=Italy/', name='cn=Italy/', size=0, modificationTime=1718561189000),\n",
       " FileInfo(path='dbfs:/user/hive/warehouse/bronze.db/countries/cn=Japan/', name='cn=Japan/', size=0, modificationTime=1718561189000),\n",
       " FileInfo(path='dbfs:/user/hive/warehouse/bronze.db/countries/cn=Netherlands/', name='cn=Netherlands/', size=0, modificationTime=1718561189000),\n",
       " FileInfo(path='dbfs:/user/hive/warehouse/bronze.db/countries/cn=Norway/', name='cn=Norway/', size=0, modificationTime=1718561189000),\n",
       " FileInfo(path='dbfs:/user/hive/warehouse/bronze.db/countries/cn=Philippines/', name='cn=Philippines/', size=0, modificationTime=1718561189000),\n",
       " FileInfo(path='dbfs:/user/hive/warehouse/bronze.db/countries/cn=Republic of Korea/', name='cn=Republic of Korea/', size=0, modificationTime=1718561189000),\n",
       " FileInfo(path='dbfs:/user/hive/warehouse/bronze.db/countries/cn=United States/', name='cn=United States/', size=0, modificationTime=1718561189000)]"
      ]
     },
     "execution_count": 165,
     "metadata": {},
     "output_type": "execute_result"
    }
   ],
   "source": [
    "bronze_location = 'dbfs:/user/hive/warehouse/bronze.db/countries'\n",
    "dbutils.fs.ls(f'{bronze_location}')"
   ]
  },
  {
   "cell_type": "code",
   "execution_count": null,
   "metadata": {
    "application/vnd.databricks.v1+cell": {
     "cellMetadata": {
      "byteLimit": 2048000,
      "rowLimit": 10000
     },
     "inputWidgets": {},
     "nuid": "7fcece24-91f8-4649-8518-eac5be8f6c9f",
     "showTitle": false,
     "title": ""
    }
   },
   "outputs": [],
   "source": [
    "silver_countries = (spark.readStream\n",
    "                    .format('delta')\n",
    "                    .option(\"delta.format\", \"parquet\")\n",
    "                    .option(\"delta.inferColumnTypes\", \"true\")\n",
    "                    .option('header', 'true')\n",
    "                    .load(bronze_location)\n",
    ")"
   ]
  },
  {
   "cell_type": "code",
   "execution_count": null,
   "metadata": {
    "application/vnd.databricks.v1+cell": {
     "cellMetadata": {
      "byteLimit": 2048000,
      "rowLimit": 10000
     },
     "inputWidgets": {},
     "nuid": "c97a6fa1-0d7a-4b8d-8eb7-e45008766bd4",
     "showTitle": false,
     "title": ""
    }
   },
   "outputs": [
    {
     "data": {
      "text/plain": [
       "'\\nsilver_countries = (silver_countries\\n                    .withWatermark(\"timestamp\", \"10 minutes\")\\n                    .groupBy(\"cn\", \"timestamp\")\\n                    .agg(F.avg(F.col(\"temp\")).alias(\\'average_temp\\'), F.count(\"*\").alias(\\'count\\'))\\n                    #.orderBy(\\'count\\',ascending=False)\\n)\\n'"
      ]
     },
     "execution_count": 167,
     "metadata": {},
     "output_type": "execute_result"
    }
   ],
   "source": [
    "'''\n",
    "Here, I had to toggle between the different group by options to be able to write to stream and print to csv, and use the display function in order to show it in the notebook and export to my local machine. The code below shows the last update I made to write it to a csv in dbfs by including the timestamp in the group by clause.\n",
    "'''\n",
    "silver_countries = (silver_countries\n",
    "                    .withWatermark(\"timestamp\", \"10 minutes\")\n",
    "                    .groupBy(\"cn\", \"timestamp\")\n",
    "                    .agg(F.avg(F.col(\"temp\")).alias('average_temp'), F.count(\"*\").alias('count'))\n",
    ")\n"
   ]
  },
  {
   "cell_type": "code",
   "execution_count": null,
   "metadata": {
    "application/vnd.databricks.v1+cell": {
     "cellMetadata": {
      "byteLimit": 2048000,
      "rowLimit": 10000
     },
     "inputWidgets": {},
     "nuid": "14984a22-48e2-46aa-a9d2-f2f38ac1b55e",
     "showTitle": false,
     "title": ""
    }
   },
   "outputs": [
    {
     "data": {
      "text/html": [
       "<style scoped>\n",
       "  .table-result-container {\n",
       "    max-height: 300px;\n",
       "    overflow: auto;\n",
       "  }\n",
       "  table, th, td {\n",
       "    border: 1px solid black;\n",
       "    border-collapse: collapse;\n",
       "  }\n",
       "  th, td {\n",
       "    padding: 5px;\n",
       "  }\n",
       "  th {\n",
       "    text-align: left;\n",
       "  }\n",
       "</style><div class='table-result-container'><table class='table-result'><thead style='background-color: white'><tr><th>cn</th><th>average_temp</th><th>count</th></tr></thead><tbody><tr><td>Republic of Korea</td><td>17.5</td><td>2</td></tr><tr><td>Philippines</td><td>25.0</td><td>1</td></tr><tr><td>India</td><td>18.0</td><td>2</td></tr><tr><td>United States</td><td>22.166666666666668</td><td>12</td></tr><tr><td>China</td><td>24.5</td><td>2</td></tr><tr><td>Italy</td><td>17.5</td><td>2</td></tr><tr><td>Norway</td><td>13.5</td><td>2</td></tr><tr><td>Canada</td><td>28.0</td><td>1</td></tr><tr><td>Japan</td><td>18.5</td><td>4</td></tr><tr><td>Austria</td><td>30.0</td><td>1</td></tr><tr><td>Netherlands</td><td>15.0</td><td>1</td></tr></tbody></table></div>"
      ]
     },
     "metadata": {
      "application/vnd.databricks.v1+output": {
       "addedWidgets": {},
       "aggData": [],
       "aggError": "",
       "aggOverflow": false,
       "aggSchema": [],
       "aggSeriesLimitReached": false,
       "aggType": "",
       "arguments": {},
       "columnCustomDisplayInfos": {},
       "data": [
        [
         "Republic of Korea",
         17.5,
         2
        ],
        [
         "Philippines",
         25,
         1
        ],
        [
         "India",
         18,
         2
        ],
        [
         "United States",
         22.166666666666668,
         12
        ],
        [
         "China",
         24.5,
         2
        ],
        [
         "Italy",
         17.5,
         2
        ],
        [
         "Norway",
         13.5,
         2
        ],
        [
         "Canada",
         28,
         1
        ],
        [
         "Japan",
         18.5,
         4
        ],
        [
         "Austria",
         30,
         1
        ],
        [
         "Netherlands",
         15,
         1
        ]
       ],
       "datasetInfos": [],
       "dbfsResultPath": null,
       "isJsonSchema": true,
       "metadata": {
        "isDbfsCommandResult": false
       },
       "overflow": false,
       "plotOptions": {
        "customPlotOptions": {},
        "displayType": "table",
        "pivotAggregation": null,
        "pivotColumns": null,
        "xColumns": null,
        "yColumns": null
       },
       "removedWidgets": [],
       "schema": [
        {
         "metadata": "{}",
         "name": "cn",
         "type": "\"string\""
        },
        {
         "metadata": "{}",
         "name": "average_temp",
         "type": "\"double\""
        },
        {
         "metadata": "{}",
         "name": "count",
         "type": "\"long\""
        }
       ],
       "type": "table"
      }
     },
     "output_type": "display_data"
    }
   ],
   "source": [
    "#Here is how I was able to download the CSV to my local machine.\n",
    "display(silver_countries)"
   ]
  },
  {
   "cell_type": "code",
   "execution_count": null,
   "metadata": {
    "application/vnd.databricks.v1+cell": {
     "cellMetadata": {
      "byteLimit": 2048000,
      "rowLimit": 10000
     },
     "inputWidgets": {},
     "nuid": "640654ef-4c10-49cb-b5a3-a54c6cb67e26",
     "showTitle": false,
     "title": ""
    }
   },
   "outputs": [
    {
     "data": {
      "text/plain": [
       "'\\nsilver_countries_csv = (silver_countries\\n    .writeStream\\n    .format(\"csv\")\\n    #.option(\"format\", \"append\")\\n    .trigger(processingTime=\"30 seconds\")\\n    .option(\"checkpointLocation\", f\\'{source_dir}/silvercheckpoint\\')\\n    .option(\"path\", f\\'{source_dir}/silver.countries\\')\\n    .option(\"header\", \\'true\\')\\n    .outputMode(\"complete\")\\n    .start()\\n)\\n'"
      ]
     },
     "execution_count": 169,
     "metadata": {},
     "output_type": "execute_result"
    }
   ],
   "source": [
    "#Here is the code I used to write the csv to the specifed DBFS directory. Again, I could not download from dbfs to my local machine, hence my use of display() above.\n",
    "silver_countries = silver_countries.withWatermark(\"timestamp\", \"10 minutes\")\n",
    "\n",
    "schema = StructType([\n",
    "    StructField(\"cn\", StringType(), True),\n",
    "    StructField(\"average_temp\", DoubleType(), True),\n",
    "    StructField(\"count\", DoubleType(), True),\n",
    "    StructField(\"timestamp\", TimestampType(), True)\n",
    "])\n",
    "\n",
    "silver_countries_df = spark.read.schema(schema).parquet(f'{source_dir}/silver.parquet')\n",
    "\n",
    "silver_countries_df.write.csv(f'{source_dir}/silver.countries', header=True,  mode=\"overwrite\")"
   ]
  },
  {
   "cell_type": "code",
   "execution_count": null,
   "metadata": {
    "application/vnd.databricks.v1+cell": {
     "cellMetadata": {
      "byteLimit": 2048000,
      "rowLimit": 10000
     },
     "inputWidgets": {},
     "nuid": "499c24c7-fb93-4f82-9d19-ec664da2e8e8",
     "showTitle": false,
     "title": ""
    }
   },
   "outputs": [],
   "source": [
    "\n",
    "WriteStream.stop()"
   ]
  }
 ],
 "metadata": {
  "application/vnd.databricks.v1+notebook": {
   "dashboards": [],
   "environmentMetadata": null,
   "language": "python",
   "notebookMetadata": {
    "mostRecentlyExecutedCommandWithImplicitDF": {
     "commandId": 973186387908241,
     "dataframes": [
      "_sqldf"
     ]
    },
    "pythonIndentUnit": 4
   },
   "notebookName": "Week 6_Lab01_Simonsen",
   "widgets": {}
  },
  "kernelspec": {
   "display_name": "Python 3 (ipykernel)",
   "language": "python",
   "name": "python3"
  },
  "language_info": {
   "codemirror_mode": {
    "name": "ipython",
    "version": 3
   },
   "file_extension": ".py",
   "mimetype": "text/x-python",
   "name": "python",
   "nbconvert_exporter": "python",
   "pygments_lexer": "ipython3",
   "version": "3.11.8"
  }
 },
 "nbformat": 4,
 "nbformat_minor": 4
}
